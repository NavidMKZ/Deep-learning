{
 "cells": [
  {
   "cell_type": "code",
   "execution_count": 1,
   "id": "dea01626",
   "metadata": {},
   "outputs": [],
   "source": [
    "import numpy as np\n",
    "from PIL import Image\n",
    "import h5py\n",
    "import matplotlib.pyplot as plt"
   ]
  },
  {
   "cell_type": "code",
   "execution_count": 2,
   "id": "06f8adba",
   "metadata": {},
   "outputs": [],
   "source": [
    "train_dataset = h5py.File('datasets/train_catvnoncat.h5', \"r\")\n",
    "train_set_x = np.array(train_dataset[\"train_set_x\"])\n",
    "train_set_y = np.array(train_dataset[\"train_set_y\"])\n",
    "\n",
    "test_dataset = h5py.File('datasets/test_catvnoncat.h5',\"r\")\n",
    "test_set_x = np.array(test_dataset[\"test_set_x\"])\n",
    "test_set_y = np.array(test_dataset[\"test_set_y\"])\n",
    "\n",
    "classes = np.array(test_dataset[\"list_classes\"])\n",
    "\n",
    "test_set_y = test_set_y.reshape(1,test_set_y.shape[0])\n",
    "train_set_y = train_set_y.reshape(1,train_set_y.shape[0])\n"
   ]
  },
  {
   "cell_type": "code",
   "execution_count": 3,
   "id": "fcbffdda",
   "metadata": {},
   "outputs": [
    {
     "name": "stdout",
     "output_type": "stream",
     "text": [
      "cat\n"
     ]
    },
    {
     "data": {
      "image/png": "[encoded data removed]",
      "text/plain": [
       "<Figure size 432x288 with 1 Axes>"
      ]
     },
     "metadata": {
      "needs_background": "light"
     },
     "output_type": "display_data"
    }
   ],
   "source": [
    "index = 2\n",
    "print(classes[test_set_y[0][index]].decode(\"utf-8\"))\n",
    "show = plt.imshow(test_set_x[index])"
   ]
  },
  {
   "cell_type": "code",
   "execution_count": 4,
   "id": "a2528ab7",
   "metadata": {},
   "outputs": [],
   "source": [
    "train_set_x = train_set_x.reshape(train_set_x.shape[0],-1).T\n",
    "test_set_x = test_set_x.reshape(test_set_x.shape[0],-1).T\n",
    "\n",
    "train_set_x = train_set_x/255\n",
    "test_set_x = test_set_x/255"
   ]
  },
  {
   "cell_type": "code",
   "execution_count": 5,
   "id": "8c8a4b19",
   "metadata": {},
   "outputs": [],
   "source": [
    "def sigmoid(z):\n",
    "    \n",
    "    \n",
    "    activation = 1/(1+np.exp(-z))\n",
    "    \n",
    "    return activation\n",
    "    "
   ]
  },
  {
   "cell_type": "code",
   "execution_count": 6,
   "id": "6d1f8006",
   "metadata": {},
   "outputs": [],
   "source": [
    "def propagate(w,b,X,Y):\n",
    "    \n",
    "    m = X.shape[1]\n",
    "    \n",
    "    A = sigmoid(np.dot(w.T,X)+b)\n",
    "    dz = A-Y\n",
    "    \n",
    "    dw = (1/m)*(np.dot(X,dz.T))\n",
    "    db = (1/m)*(np.sum(dz))\n",
    "    \n",
    "    \n",
    "    return dw, db"
   ]
  },
  {
   "cell_type": "code",
   "execution_count": 7,
   "id": "3e98e592",
   "metadata": {},
   "outputs": [],
   "source": [
    "def optimize(w,b,X,Y,num_iteration,learning_rate):\n",
    "    \n",
    "    for i in range(num_iteration):\n",
    "        \n",
    "        \n",
    "        dw, db = propagate(w,b,X,Y) \n",
    "        \n",
    "        \n",
    "        w = w - learning_rate*dw\n",
    "        b = b - learning_rate*db\n",
    "    return w,b"
   ]
  },
  {
   "cell_type": "code",
   "execution_count": 8,
   "id": "a5e60595",
   "metadata": {},
   "outputs": [],
   "source": [
    "w = np.zeros((train_set_x.shape[0],1))\n",
    "b = 0\n",
    "w, b = optimize(w,b,train_set_x,train_set_y,num_iteration = 2000,learning_rate = 0.005)"
   ]
  },
  {
   "cell_type": "code",
   "execution_count": 20,
   "id": "896e260f",
   "metadata": {},
   "outputs": [
    {
     "name": "stdout",
     "output_type": "stream",
     "text": [
      "test accuracy:  70.0\n",
      "train accuracy:  99.04306220095694\n"
     ]
    }
   ],
   "source": [
    "X = test_set_x\n",
    "A = sigmoid(np.dot(w.T,X)+b)\n",
    "\n",
    "for i in range(A.shape[1]):   \n",
    "    if A[0][i] > 0.5:\n",
    "        A[0][i] = 1\n",
    "    else:\n",
    "        A[0][i] = 0\n",
    "print(\"test accuracy: \",(100-np.mean(abs(test_set_y-A))*100))\n",
    "\n",
    "A = sigmoid(np.dot(w.T,train_set_x))\n",
    "for i in range(A.shape[1]):   \n",
    "    if A[0][i] > 0.5:\n",
    "        A[0][i] = 1\n",
    "    else:\n",
    "        A[0][i] = 0\n",
    "        \n",
    "print(\"train accuracy: \",(100-np.mean(abs(train_set_y-A))*100))"
   ]
  },
  {
   "cell_type": "code",
   "execution_count": null,
   "id": "1667ce58",
   "metadata": {},
   "outputs": [],
   "source": []
  }
 ],
 "metadata": {
  "kernelspec": {
   "display_name": "Python 3 (ipykernel)",
   "language": "python",
   "name": "python3"
  },
  "language_info": {
   "codemirror_mode": {
    "name": "ipython",
    "version": 3
   },
   "file_extension": ".py",
   "mimetype": "text/x-python",
   "name": "python",
   "nbconvert_exporter": "python",
   "pygments_lexer": "ipython3",
   "version": "3.9.12"
  }
 },
 "nbformat": 4,
 "nbformat_minor": 5
}
